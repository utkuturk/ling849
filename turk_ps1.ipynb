{
  "nbformat": 4,
  "nbformat_minor": 0,
  "metadata": {
    "colab": {
      "provenance": []
    },
    "kernelspec": {
      "name": "python3",
      "display_name": "Python 3"
    },
    "language_info": {
      "name": "python"
    }
  },
  "cells": [
    {
      "cell_type": "code",
      "execution_count": 68,
      "metadata": {
        "id": "SOPoS8-0r9NU"
      },
      "outputs": [],
      "source": [
        "import numpy as np\n",
        "import pandas as pd\n",
        "import math\n",
        "from google.colab import files"
      ]
    },
    {
      "cell_type": "code",
      "source": [
        "uploaded = files.upload()\n",
        "verbs = pd.read_csv('verbs.csv')"
      ],
      "metadata": {
        "colab": {
          "base_uri": "https://localhost:8080/",
          "height": 72
        },
        "id": "2x4_4whvtES7",
        "outputId": "0846af8a-daff-4ce6-f629-297574bb3b1f"
      },
      "execution_count": 69,
      "outputs": [
        {
          "output_type": "display_data",
          "data": {
            "text/plain": [
              "<IPython.core.display.HTML object>"
            ],
            "text/html": [
              "\n",
              "     <input type=\"file\" id=\"files-6f88d0be-2300-4be2-8e6c-22591731e241\" name=\"files[]\" multiple disabled\n",
              "        style=\"border:none\" />\n",
              "     <output id=\"result-6f88d0be-2300-4be2-8e6c-22591731e241\">\n",
              "      Upload widget is only available when the cell has been executed in the\n",
              "      current browser session. Please rerun this cell to enable.\n",
              "      </output>\n",
              "      <script>// Copyright 2017 Google LLC\n",
              "//\n",
              "// Licensed under the Apache License, Version 2.0 (the \"License\");\n",
              "// you may not use this file except in compliance with the License.\n",
              "// You may obtain a copy of the License at\n",
              "//\n",
              "//      http://www.apache.org/licenses/LICENSE-2.0\n",
              "//\n",
              "// Unless required by applicable law or agreed to in writing, software\n",
              "// distributed under the License is distributed on an \"AS IS\" BASIS,\n",
              "// WITHOUT WARRANTIES OR CONDITIONS OF ANY KIND, either express or implied.\n",
              "// See the License for the specific language governing permissions and\n",
              "// limitations under the License.\n",
              "\n",
              "/**\n",
              " * @fileoverview Helpers for google.colab Python module.\n",
              " */\n",
              "(function(scope) {\n",
              "function span(text, styleAttributes = {}) {\n",
              "  const element = document.createElement('span');\n",
              "  element.textContent = text;\n",
              "  for (const key of Object.keys(styleAttributes)) {\n",
              "    element.style[key] = styleAttributes[key];\n",
              "  }\n",
              "  return element;\n",
              "}\n",
              "\n",
              "// Max number of bytes which will be uploaded at a time.\n",
              "const MAX_PAYLOAD_SIZE = 100 * 1024;\n",
              "\n",
              "function _uploadFiles(inputId, outputId) {\n",
              "  const steps = uploadFilesStep(inputId, outputId);\n",
              "  const outputElement = document.getElementById(outputId);\n",
              "  // Cache steps on the outputElement to make it available for the next call\n",
              "  // to uploadFilesContinue from Python.\n",
              "  outputElement.steps = steps;\n",
              "\n",
              "  return _uploadFilesContinue(outputId);\n",
              "}\n",
              "\n",
              "// This is roughly an async generator (not supported in the browser yet),\n",
              "// where there are multiple asynchronous steps and the Python side is going\n",
              "// to poll for completion of each step.\n",
              "// This uses a Promise to block the python side on completion of each step,\n",
              "// then passes the result of the previous step as the input to the next step.\n",
              "function _uploadFilesContinue(outputId) {\n",
              "  const outputElement = document.getElementById(outputId);\n",
              "  const steps = outputElement.steps;\n",
              "\n",
              "  const next = steps.next(outputElement.lastPromiseValue);\n",
              "  return Promise.resolve(next.value.promise).then((value) => {\n",
              "    // Cache the last promise value to make it available to the next\n",
              "    // step of the generator.\n",
              "    outputElement.lastPromiseValue = value;\n",
              "    return next.value.response;\n",
              "  });\n",
              "}\n",
              "\n",
              "/**\n",
              " * Generator function which is called between each async step of the upload\n",
              " * process.\n",
              " * @param {string} inputId Element ID of the input file picker element.\n",
              " * @param {string} outputId Element ID of the output display.\n",
              " * @return {!Iterable<!Object>} Iterable of next steps.\n",
              " */\n",
              "function* uploadFilesStep(inputId, outputId) {\n",
              "  const inputElement = document.getElementById(inputId);\n",
              "  inputElement.disabled = false;\n",
              "\n",
              "  const outputElement = document.getElementById(outputId);\n",
              "  outputElement.innerHTML = '';\n",
              "\n",
              "  const pickedPromise = new Promise((resolve) => {\n",
              "    inputElement.addEventListener('change', (e) => {\n",
              "      resolve(e.target.files);\n",
              "    });\n",
              "  });\n",
              "\n",
              "  const cancel = document.createElement('button');\n",
              "  inputElement.parentElement.appendChild(cancel);\n",
              "  cancel.textContent = 'Cancel upload';\n",
              "  const cancelPromise = new Promise((resolve) => {\n",
              "    cancel.onclick = () => {\n",
              "      resolve(null);\n",
              "    };\n",
              "  });\n",
              "\n",
              "  // Wait for the user to pick the files.\n",
              "  const files = yield {\n",
              "    promise: Promise.race([pickedPromise, cancelPromise]),\n",
              "    response: {\n",
              "      action: 'starting',\n",
              "    }\n",
              "  };\n",
              "\n",
              "  cancel.remove();\n",
              "\n",
              "  // Disable the input element since further picks are not allowed.\n",
              "  inputElement.disabled = true;\n",
              "\n",
              "  if (!files) {\n",
              "    return {\n",
              "      response: {\n",
              "        action: 'complete',\n",
              "      }\n",
              "    };\n",
              "  }\n",
              "\n",
              "  for (const file of files) {\n",
              "    const li = document.createElement('li');\n",
              "    li.append(span(file.name, {fontWeight: 'bold'}));\n",
              "    li.append(span(\n",
              "        `(${file.type || 'n/a'}) - ${file.size} bytes, ` +\n",
              "        `last modified: ${\n",
              "            file.lastModifiedDate ? file.lastModifiedDate.toLocaleDateString() :\n",
              "                                    'n/a'} - `));\n",
              "    const percent = span('0% done');\n",
              "    li.appendChild(percent);\n",
              "\n",
              "    outputElement.appendChild(li);\n",
              "\n",
              "    const fileDataPromise = new Promise((resolve) => {\n",
              "      const reader = new FileReader();\n",
              "      reader.onload = (e) => {\n",
              "        resolve(e.target.result);\n",
              "      };\n",
              "      reader.readAsArrayBuffer(file);\n",
              "    });\n",
              "    // Wait for the data to be ready.\n",
              "    let fileData = yield {\n",
              "      promise: fileDataPromise,\n",
              "      response: {\n",
              "        action: 'continue',\n",
              "      }\n",
              "    };\n",
              "\n",
              "    // Use a chunked sending to avoid message size limits. See b/62115660.\n",
              "    let position = 0;\n",
              "    do {\n",
              "      const length = Math.min(fileData.byteLength - position, MAX_PAYLOAD_SIZE);\n",
              "      const chunk = new Uint8Array(fileData, position, length);\n",
              "      position += length;\n",
              "\n",
              "      const base64 = btoa(String.fromCharCode.apply(null, chunk));\n",
              "      yield {\n",
              "        response: {\n",
              "          action: 'append',\n",
              "          file: file.name,\n",
              "          data: base64,\n",
              "        },\n",
              "      };\n",
              "\n",
              "      let percentDone = fileData.byteLength === 0 ?\n",
              "          100 :\n",
              "          Math.round((position / fileData.byteLength) * 100);\n",
              "      percent.textContent = `${percentDone}% done`;\n",
              "\n",
              "    } while (position < fileData.byteLength);\n",
              "  }\n",
              "\n",
              "  // All done.\n",
              "  yield {\n",
              "    response: {\n",
              "      action: 'complete',\n",
              "    }\n",
              "  };\n",
              "}\n",
              "\n",
              "scope.google = scope.google || {};\n",
              "scope.google.colab = scope.google.colab || {};\n",
              "scope.google.colab._files = {\n",
              "  _uploadFiles,\n",
              "  _uploadFilesContinue,\n",
              "};\n",
              "})(self);\n",
              "</script> "
            ]
          },
          "metadata": {}
        },
        {
          "output_type": "stream",
          "name": "stdout",
          "text": [
            "Saving verbs.csv to verbs (1).csv\n"
          ]
        }
      ]
    },
    {
      "cell_type": "code",
      "source": [
        "print(\"--------Question 1--------\")\n",
        "def max_exceptions(n):\n",
        "  #N/ln(N)\n",
        "  max = math.floor(n/math.log(n))\n",
        "  return max\n",
        "\n",
        "N = 10\n",
        "max_exceptions(N)"
      ],
      "metadata": {
        "colab": {
          "base_uri": "https://localhost:8080/"
        },
        "id": "fFK5hAfMsm9r",
        "outputId": "64ae0fac-ca3b-49d9-8b46-f26c7fd1f197"
      },
      "execution_count": 70,
      "outputs": [
        {
          "output_type": "stream",
          "name": "stdout",
          "text": [
            "--------Question 1--------\n"
          ]
        },
        {
          "output_type": "execute_result",
          "data": {
            "text/plain": [
              "4"
            ]
          },
          "metadata": {},
          "execution_count": 70
        }
      ]
    },
    {
      "cell_type": "code",
      "source": [
        "print(\"--------Question 2--------\")\n",
        "def is_all_list(df=verbs):\n",
        "  n = len(df)\n",
        "  n_max_x = max_exceptions(n)\n",
        "  n_false = len(df[df['Regular'] == False])\n",
        "  if n_false <= n_max_x:\n",
        "    state = \"rule+exceptions\"\n",
        "  else:\n",
        "    state = \"just a list of exceptions\"\n",
        "    return state\n",
        "\n",
        "print(is_all_list())\n",
        "# Number of irregular in our verbs data is 5,\n",
        "# but to be able have a rule+exceptions storage,\n",
        "# the maximum number of tolerated exceptions is 4.\n",
        "\n"
      ],
      "metadata": {
        "colab": {
          "base_uri": "https://localhost:8080/"
        },
        "id": "kUt5ji08tX46",
        "outputId": "bf06dfb5-1f6a-4108-a66c-b2c6fb882f4d"
      },
      "execution_count": 78,
      "outputs": [
        {
          "output_type": "stream",
          "name": "stdout",
          "text": [
            "--------Question 2--------\n",
            "just a list of exceptions\n"
          ]
        }
      ]
    },
    {
      "cell_type": "code",
      "source": [
        "print(\"--------Question 3--------\")\n",
        "def full_listing(df=verbs, n_samples=10000):\n",
        "  # sort df according to frequency, more frequent comes first\n",
        "  # reset the indices since we are going to use it as an indicator of time complexity\n",
        "  df = df.sort_values(by = 'Frequency', ascending=False).reset_index(drop=True)\n",
        "  # add 1 to all indices (won't matter because we are going to mean it anyway)\n",
        "  df.index += 1\n",
        "  # transform frequencies into probabilities\n",
        "  prob = df['Frequency'] / df['Frequency'].sum()\n",
        "  # create a fake corpus of n_samples\n",
        "  corpus = np.random.choice(df['Verb'], size=n_samples, replace = True, p=prob)\n",
        "  # get the index for each sample from the sorted df\n",
        "  time = [df.index[df['Verb'] == c].tolist()[0] for c in corpus]\n",
        "  # mean all\n",
        "  mean_time = np.mean(time)\n",
        "  return mean_time\n",
        "\n",
        "full_listing()"
      ],
      "metadata": {
        "colab": {
          "base_uri": "https://localhost:8080/"
        },
        "id": "F1XO0MinyV8m",
        "outputId": "70daa821-5e7a-451c-fe3f-5605d5d391ff"
      },
      "execution_count": 72,
      "outputs": [
        {
          "output_type": "stream",
          "name": "stdout",
          "text": [
            "--------Question 3--------\n"
          ]
        },
        {
          "output_type": "execute_result",
          "data": {
            "text/plain": [
              "2.017"
            ]
          },
          "metadata": {},
          "execution_count": 72
        }
      ]
    },
    {
      "cell_type": "code",
      "source": [
        "print(\"--------Question 4--------\")\n",
        "def rule(df=verbs, n_samples=10000):\n",
        "  # sort df according to frequency, more frequent comes first\n",
        "  # reset the indices since we are going to use it as an indicator of time complexity\n",
        "  df = df.sort_values(by = 'Frequency', ascending=False).reset_index(drop=True)\n",
        "  # add 1 to all indices (won't matter because we are going to mean it anyway)\n",
        "  df.index += 1\n",
        "  # transform frequencies into probabilities\n",
        "  prob = df['Frequency'] / df['Frequency'].sum()\n",
        "  # create a fake corpus of n_samples\n",
        "  corpus = np.random.choice(df['Verb'], size=n_samples, replace = True, p=prob)\n",
        "  # filter out regulars\n",
        "  irregulars = df[df['Regular'] == False]\n",
        "  time = []\n",
        "  for c in corpus:\n",
        "    if c in irregulars['Verb'].values:\n",
        "      time.append(irregulars.index[irregulars['Verb'] == c].tolist()[0])\n",
        "    else:\n",
        "      time.append(len(irregulars))\n",
        "  mean_time = np.mean(time)\n",
        "  return mean_time\n",
        "\n",
        "rule()"
      ],
      "metadata": {
        "colab": {
          "base_uri": "https://localhost:8080/"
        },
        "id": "gCLiuCSfydPe",
        "outputId": "01d364a4-2c95-4ff9-9e3f-080d4cb57333"
      },
      "execution_count": 76,
      "outputs": [
        {
          "output_type": "stream",
          "name": "stdout",
          "text": [
            "--------Question 4--------\n"
          ]
        },
        {
          "output_type": "execute_result",
          "data": {
            "text/plain": [
              "2.0073"
            ]
          },
          "metadata": {},
          "execution_count": 76
        }
      ]
    },
    {
      "cell_type": "code",
      "source": [
        "print(\"--------Question 5--------\")\n",
        "def decide(df=verbs, n_samples=10000):\n",
        "  t1 = full_listing(df=df, n_samples=n_samples)\n",
        "  t2 = rule(df=df, n_samples=n_samples)\n",
        "  if t1 < t2:\n",
        "    state = \"just a list of exceptions\"\n",
        "  elif t1 > t2:\n",
        "    state = \"rule+exceptions\"\n",
        "  else:\n",
        "    state = \"cannot decide\"\n",
        "  return state\n",
        "\n",
        "print(decide())\n",
        "# Our tolerance calculation said this list of verbs should be represented as a list of exceptions.\n",
        "# No this answer does not agree with my answer to Question 2\n",
        "# When we actually calculated the time complexity,\n",
        "# We see that it is more favorable to encode this 10 verbs as a\n",
        "# rule+exceptions"
      ],
      "metadata": {
        "colab": {
          "base_uri": "https://localhost:8080/"
        },
        "id": "0l_YWw68xTGx",
        "outputId": "23ffced2-e1b4-4637-ded1-39dd9232922f"
      },
      "execution_count": 79,
      "outputs": [
        {
          "output_type": "stream",
          "name": "stdout",
          "text": [
            "--------Question 5--------\n",
            "rule+exceptions\n"
          ]
        }
      ]
    },
    {
      "cell_type": "code",
      "source": [
        "#--------Question 6--------\n",
        "\n",
        "# Yang 2005 in his paper always look at cases where you have enough of a verb.\n",
        "# When one has a big N, approximation N/ln(N) is more stable\n",
        "# As we have bigger N, the relative importance of the initial frequency decreases.\n",
        "# This feels like Yang 2005 model is better at explainig as a kid who is at their late stage.\n",
        "# It is not a good model for early language acquisition.\n",
        "\n",
        "# The following code shows that even when we increase the N haphazardly, by just repeating the df\n",
        "# time complexity and zipfian based N/ln(N) agrees with each other\n",
        "def concat_verbs(n, df):\n",
        "  return pd.concat([df] * n, ignore_index=True)\n",
        "\n",
        "for i in range(1, 6):\n",
        "  print(f\"repeating verbs df {i} time\")\n",
        "  equal_state = is_all_list(concat_verbs(i, df=verbs)) ==  decide(concat_verbs(i,df=verbs))\n",
        "  if equal_state:\n",
        "    print(\"both N/ln(N) and Time complexity gives the same results\")\n",
        "  else:\n",
        "    print(\"N/ln(N) and Time complexity differs in their results\")\n",
        "  print(\"\\n-------\\n\")"
      ],
      "metadata": {
        "colab": {
          "base_uri": "https://localhost:8080/"
        },
        "id": "_cu7nZu47yD_",
        "outputId": "37166de4-2817-4f6d-8ad2-71c4d857ff0f"
      },
      "execution_count": 90,
      "outputs": [
        {
          "output_type": "stream",
          "name": "stdout",
          "text": [
            "repeating verbs df 1 time\n",
            "N/ln(N) and Time complexity differs in their results\n",
            "\n",
            "-------\n",
            "\n",
            "repeating verbs df 2 time\n",
            "N/ln(N) and Time complexity differs in their results\n",
            "\n",
            "-------\n",
            "\n",
            "repeating verbs df 3 time\n",
            "both N/ln(N) and Time complexity gives the same results\n",
            "\n",
            "-------\n",
            "\n",
            "repeating verbs df 4 time\n",
            "both N/ln(N) and Time complexity gives the same results\n",
            "\n",
            "-------\n",
            "\n",
            "repeating verbs df 5 time\n",
            "both N/ln(N) and Time complexity gives the same results\n",
            "\n",
            "-------\n",
            "\n"
          ]
        }
      ]
    }
  ]
}